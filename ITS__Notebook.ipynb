{
 "cells": [
  {
   "cell_type": "markdown",
   "metadata": {},
   "source": [
    "# Innovative Technologien und Services\n",
    "### von Fabian Harmsen, Phillip Krumpholz, Till Waller\n",
    "### Recommenderservice mit Python\n",
    "Ziel dieser Abgabe ist es ein funktionierendes Recommenders system zu entwickeln, welches contend-based und collaborative filtering ermöglicht.\n"
   ]
  },
  {
   "cell_type": "markdown",
   "metadata": {},
   "source": [
    "### Imports für den Recommender\n",
    "Im folgenden Abschnitt werden Bibiliotheken für den Recommender importiert."
   ]
  },
  {
   "cell_type": "code",
   "execution_count": 138,
   "metadata": {},
   "outputs": [],
   "source": [
    "import pandas as pd\n",
    "import numpy as np\n",
    "from ast import literal_eval\n",
    "import matplotlib.pyplot as plt\n",
    "import seaborn as sns\n",
    "from IPython.display import display\n",
    "from sklearn.feature_extraction.text import TfidfVectorizer\n",
    "from sklearn.metrics.pairwise import linear_kernel\n",
    "from surprise import SVD, Dataset, Reader\n",
    "from surprise.model_selection import train_test_split, cross_validate\n",
    "from sklearn.feature_extraction.text import CountVectorizer\n",
    "from sklearn.metrics.pairwise import cosine_similarity"
   ]
  },
  {
   "cell_type": "markdown",
   "metadata": {},
   "source": [
    "## Aufgabe 1\n",
    "Im folgenden Abschnitt wird der Aufbau des contend-basted Recommenders Schritt für Schritt erläutert. Zum Abschluss werden einige Empfehlungen zu bestimmten Filmen exemplarisch ausgegeben."
   ]
  },
  {
   "cell_type": "markdown",
   "metadata": {},
   "source": [
    "### Import der CSV \"metadata\"\n",
    "Im folgenden Abschnitt importieren wir die CSV-Dateien."
   ]
  },
  {
   "cell_type": "code",
   "execution_count": 139,
   "metadata": {},
   "outputs": [],
   "source": [
    "metadata = pd.read_csv('data/movies_metadata.csv', low_memory=False)\n",
    "credits = pd.read_csv('data/credits.csv', low_memory=False)\n",
    "keywords = pd.read_csv('data/keywords.csv', low_memory=False)\n",
    "rating = pd.read_csv('data/ratings_small.csv', low_memory=False)"
   ]
  },
  {
   "cell_type": "markdown",
   "metadata": {},
   "source": [
    "### Content based filtering und das Problem dahinter\n",
    "Jeder Film hat eine Beschreibung welche wir im folgenden Abschnitt einmal exemplarisch zeigen. Das offensichtliche Problem hierbei ist die automatische Verarbeitung von natürlicher Sprache."
   ]
  },
  {
   "cell_type": "code",
   "execution_count": 140,
   "metadata": {},
   "outputs": [
    {
     "data": {
      "text/plain": "0    Led by Woody, Andy's toys live happily in his ...\n1    When siblings Judy and Peter discover an encha...\n2    A family wedding reignites the ancient feud be...\n3    Cheated on, mistreated and stepped on, the wom...\n4    Just when George Banks has recovered from his ...\nName: overview, dtype: object"
     },
     "execution_count": 140,
     "metadata": {},
     "output_type": "execute_result"
    }
   ],
   "source": [
    "metadata.head(3)\n",
    "metadata['overview'].head()"
   ]
  },
  {
   "cell_type": "markdown",
   "metadata": {},
   "source": [
    "### Lösung des Problems\n",
    "As the name suggests, word vectors are vectorized representation of words in a document. The vectors carry a semantic meaning with it. For example, man & king will have vector representations close to each other while man & woman would have representation far from each other.\n",
    "\n",
    "You will compute Term Frequency-Inverse Document Frequency (TF-IDF) vectors for each document. This will give you a matrix where each column represents a word in the overview vocabulary (all the words that appear in at least one document), and each column represents a movie, as before.\n",
    "\n",
    "In its essence, the TF-IDF score is the frequency of a word occurring in a document, down-weighted by the number of documents in which it occurs. This is done to reduce the importance of words that frequently occur in plot overviews and, therefore, their significance in computing the final similarity score.\n",
    "\n",
    "From the above output, you observe that 75,827 different vocabularies or words in your dataset have 45,000 movies.\n",
    "\n",
    "With this matrix in hand, you can now compute a similarity score. There are several similarity metrics that you can use for this, such as the manhattan, euclidean, the Pearson, and the cosine similarity scores.\n",
    "\n",
    "### Cosine Matrix\n",
    "\n",
    "Durch die Vektorisierung der Wörter ist es nun möglich Beschreibungen anhand der Kosinus-Ähnlichkeit (cosine similarity) zu berechnen.\n",
    "\n",
    "Since you have used the TF-IDF vectorizer, calculating the dot product between each vector will directly give you the cosine similarity score. Therefore, you will use sklearn's linear_kernel() instead of cosine_similarities() since it is faster.\n",
    "\n",
    "This would return a matrix of shape 45466x45466, which means each movie overview cosine similarity score with every other movie overview. Hence, each movie will be a 1x45466 column vector where each column will be a similarity score with each movie.\n"
   ]
  },
  {
   "cell_type": "code",
   "execution_count": 141,
   "metadata": {},
   "outputs": [],
   "source": [
    "def getCosineMatrixDescription(metadata):\n",
    "    # Vektorisieren der Beschreibung\n",
    "    tfidf = TfidfVectorizer(stop_words='english')\n",
    "    metadata['overview'] = metadata['overview'].fillna('')\n",
    "    tfidf_matrix = tfidf.fit_transform(metadata['overview'])\n",
    "    print(tfidf_matrix.shape)\n",
    "\n",
    "    # Bildung der Matrix\n",
    "    cosine_matrix = linear_kernel(tfidf_matrix, tfidf_matrix)\n",
    "    print(cosine_matrix.shape)\n",
    "    return cosine_matrix"
   ]
  },
  {
   "cell_type": "code",
   "execution_count": 142,
   "outputs": [],
   "source": [
    "def get_director(x):\n",
    "        for i in x:\n",
    "            if i['job'] == 'Director':\n",
    "                return i['name']\n",
    "        return np.nan"
   ],
   "metadata": {
    "collapsed": false
   }
  },
  {
   "cell_type": "code",
   "execution_count": 143,
   "outputs": [],
   "source": [
    "def get_list(x):\n",
    "        if isinstance(x, list):\n",
    "            names = [i['name'] for i in x]\n",
    "            # Check if more than 3 elements exist. If yes, return only first three. If no, return entire list.\n",
    "            if len(names) > 3:\n",
    "                names = names[:3]\n",
    "            return names\n",
    "\n",
    "        # Return empty list in case of missing/malformed data\n",
    "        return []"
   ],
   "metadata": {
    "collapsed": false
   }
  },
  {
   "cell_type": "code",
   "execution_count": 144,
   "outputs": [],
   "source": [
    "# Function to convert all strings to lower case and strip names of spaces\n",
    "def clean_data(x):\n",
    "        if isinstance(x, list):\n",
    "            return [str.lower(i.replace(\" \", \"\")) for i in x]\n",
    "        else:\n",
    "            # Check if director exists. If not, return empty string\n",
    "            if isinstance(x, str):\n",
    "                return str.lower(x.replace(\" \", \"\"))\n",
    "            else:\n",
    "                return ''"
   ],
   "metadata": {
    "collapsed": false
   }
  },
  {
   "cell_type": "code",
   "execution_count": 145,
   "outputs": [],
   "source": [
    "def create_soup(x):\n",
    "        return ' '.join(x['keywords']) + ' ' + ' '.join(x['cast']) + ' ' + x['director'] + ' ' + ' '.join(x['genres'])"
   ],
   "metadata": {
    "collapsed": false
   }
  },
  {
   "cell_type": "code",
   "execution_count": 146,
   "outputs": [],
   "source": [
    "def getCosineMatrixAttributes(metadata, keywords, credits):\n",
    "    # Convert IDs to int. Required for merging\n",
    "    keywords['id'] = keywords['id'].astype('int')\n",
    "    credits['id'] = credits['id'].astype('int')\n",
    "    metadata['id'] = metadata['id'].astype('int')\n",
    "\n",
    "    # Merge keywords and credits into your main metadata dataframe\n",
    "    metadata = metadata.merge(credits, on='id')\n",
    "    metadata = metadata.merge(keywords, on='id')\n",
    "\n",
    "    # Print the first two movies of your newly merged metadata\n",
    "    print(metadata.head(2))\n",
    "\n",
    "    features = ['cast', 'crew', 'keywords', 'genres']\n",
    "    for feature in features:\n",
    "        metadata[feature] = metadata[feature].apply(literal_eval)\n",
    "\n",
    "    # Define new director, cast, genres and keywords features that are in a suitable form.\n",
    "    metadata['director'] = metadata['crew'].apply(get_director)\n",
    "\n",
    "    features = ['cast', 'keywords', 'genres']\n",
    "    for feature in features:\n",
    "        metadata[feature] = metadata[feature].apply(get_list)\n",
    "\n",
    "    # Print the new features of the first 3 films\n",
    "    print(metadata[['title', 'cast', 'director', 'keywords', 'genres']].head(3))\n",
    "\n",
    "    # Apply clean_data function to your features.\n",
    "    features = ['cast', 'keywords', 'director', 'genres']\n",
    "\n",
    "    for feature in features:\n",
    "        metadata[feature] = metadata[feature].apply(clean_data)\n",
    "\n",
    "    # Create a new soup feature\n",
    "    metadata['soup'] = metadata.apply(create_soup, axis=1)\n",
    "\n",
    "    print(metadata[['soup']].head(2))\n",
    "\n",
    "    count = CountVectorizer(stop_words='english')\n",
    "    count_matrix = count.fit_transform(metadata['soup'])\n",
    "\n",
    "    print(count_matrix.shape)\n",
    "\n",
    "    return cosine_similarity(count_matrix, count_matrix)    # Remove rows with bad IDs.\n"
   ],
   "metadata": {
    "collapsed": false
   }
  },
  {
   "cell_type": "markdown",
   "metadata": {},
   "source": [
    "### Index-Mapping\n",
    "Die Funktion index_mapping ist eine pd.Series-Instanz, die aus der Metadaten-Tabelle erstellt wurde. Die pd.Series enthält den Index jedes Films als Wert und den Titel jedes Films als Index. Dies wird erreicht, indem der Index der Metadaten-Tabelle als Wert und der Titel als Index übergeben wird.\n",
    "\n",
    "Die .drop_duplicates()-Methode wird aufgerufen, um alle Duplikate aus der pd.Series zu entfernen. Wenn mehrere Filme den gleichen Titel haben, wird nur der erste Film in der pd.Series gespeichert.\n",
    "\n",
    "Anschließend wird ein Teil der pd.Series mithilfe des Subset-Operators [:5] ausgegeben. Dies gibt die ersten fünf Einträge zurück."
   ]
  },
  {
   "cell_type": "code",
   "execution_count": 147,
   "metadata": {},
   "outputs": [],
   "source": [
    "def getIndexMapping (metadata):\n",
    "    index_mapping = pd.Series(metadata.index, index=metadata['title']).drop_duplicates()\n",
    "    print(index_mapping[:5])\n",
    "    return index_mapping"
   ]
  },
  {
   "cell_type": "markdown",
   "source": [],
   "metadata": {
    "collapsed": false
   }
  },
  {
   "cell_type": "markdown",
   "source": [
    "### Funktion\n",
    "You're going to define a function that takes in a movie title as an input and outputs a list of the 10 most similar movies"
   ],
   "metadata": {
    "collapsed": false
   }
  },
  {
   "cell_type": "code",
   "execution_count": 148,
   "outputs": [],
   "source": [
    "def recommend_films_by_content(title, n, cosine_matrix_description, index_mapping, metadata):\n",
    "    index = index_mapping[title]\n",
    "\n",
    "    score = list(enumerate(cosine_matrix_description[index]))\n",
    "\n",
    "    score = sorted(score, key=lambda x: x[1], reverse=True)\n",
    "\n",
    "    score = score[1:n]\n",
    "\n",
    "    movie_indices = [i[0] for i in score]\n",
    "\n",
    "    return metadata['title'].iloc[movie_indices]"
   ],
   "metadata": {
    "collapsed": false
   }
  },
  {
   "cell_type": "code",
   "execution_count": 149,
   "metadata": {},
   "outputs": [
    {
     "name": "stdout",
     "output_type": "stream",
     "text": [
      "(45463, 75827)\n",
      "(45463, 45463)\n",
      "   adult                              belongs_to_collection    budget  \\\n",
      "0  False  {'id': 10194, 'name': 'Toy Story Collection', ...  30000000   \n",
      "1  False                                                NaN  65000000   \n",
      "\n",
      "                                              genres  \\\n",
      "0  [{'id': 16, 'name': 'Animation'}, {'id': 35, '...   \n",
      "1  [{'id': 12, 'name': 'Adventure'}, {'id': 14, '...   \n",
      "\n",
      "                               homepage    id    imdb_id original_language  \\\n",
      "0  http://toystory.disney.com/toy-story   862  tt0114709                en   \n",
      "1                                   NaN  8844  tt0113497                en   \n",
      "\n",
      "  original_title                                           overview  ...  \\\n",
      "0      Toy Story  Led by Woody, Andy's toys live happily in his ...  ...   \n",
      "1        Jumanji  When siblings Judy and Peter discover an encha...  ...   \n",
      "\n",
      "                                    spoken_languages    status  \\\n",
      "0           [{'iso_639_1': 'en', 'name': 'English'}]  Released   \n",
      "1  [{'iso_639_1': 'en', 'name': 'English'}, {'iso...  Released   \n",
      "\n",
      "                                     tagline      title  video  vote_average  \\\n",
      "0                                        NaN  Toy Story  False           7.7   \n",
      "1  Roll the dice and unleash the excitement!    Jumanji  False           6.9   \n",
      "\n",
      "   vote_count                                               cast  \\\n",
      "0      5415.0  [{'cast_id': 14, 'character': 'Woody (voice)',...   \n",
      "1      2413.0  [{'cast_id': 1, 'character': 'Alan Parrish', '...   \n",
      "\n",
      "                                                crew  \\\n",
      "0  [{'credit_id': '52fe4284c3a36847f8024f49', 'de...   \n",
      "1  [{'credit_id': '52fe44bfc3a36847f80a7cd1', 'de...   \n",
      "\n",
      "                                            keywords  \n",
      "0  [{'id': 931, 'name': 'jealousy'}, {'id': 4290,...  \n",
      "1  [{'id': 10090, 'name': 'board game'}, {'id': 1...  \n",
      "\n",
      "[2 rows x 27 columns]\n",
      "              title                                            cast  \\\n",
      "0         Toy Story             [Tom Hanks, Tim Allen, Don Rickles]   \n",
      "1           Jumanji  [Robin Williams, Jonathan Hyde, Kirsten Dunst]   \n",
      "2  Grumpier Old Men      [Walter Matthau, Jack Lemmon, Ann-Margret]   \n",
      "\n",
      "        director                                           keywords  \\\n",
      "0  John Lasseter                               [jealousy, toy, boy]   \n",
      "1   Joe Johnston  [board game, disappearance, based on children'...   \n",
      "2  Howard Deutch       [fishing, best friend, duringcreditsstinger]   \n",
      "\n",
      "                         genres  \n",
      "0   [Animation, Comedy, Family]  \n",
      "1  [Adventure, Fantasy, Family]  \n",
      "2             [Romance, Comedy]  \n",
      "                                                soup\n",
      "0  jealousy toy boy tomhanks timallen donrickles ...\n",
      "1  boardgame disappearance basedonchildren'sbook ...\n",
      "(46628, 73881)\n",
      "title\n",
      "Toy Story                      0\n",
      "Jumanji                        1\n",
      "Grumpier Old Men               2\n",
      "Waiting to Exhale              3\n",
      "Father of the Bride Part II    4\n",
      "dtype: int64\n"
     ]
    },
    {
     "data": {
      "text/plain": "44509                             White Dew\n27803    Lightning Bolt: The Power Of Salad\n26241                   Wicked as They Come\n24174                                Spasmo\n25865                    Terminator Genisys\n32020                         The Scapegoat\n23166                  When Jews Were Funny\n23294                      Age of Dinosaurs\n27378             The Legend of Bloody Mary\n40741                          The Seahorse\nName: title, dtype: object"
     },
     "execution_count": 149,
     "metadata": {},
     "output_type": "execute_result"
    }
   ],
   "source": [
    "df_metadata = metadata.drop([19730, 29503, 35587])\n",
    "\n",
    "title = 'The Dark Knight Rises'\n",
    "cosine_matrix_description = getCosineMatrixDescription(df_metadata)\n",
    "cosine_matrix_attributes = getCosineMatrixAttributes(df_metadata, keywords, credits)\n",
    "index_mapping = getIndexMapping(df_metadata)\n",
    "\n",
    "recommend_films_by_content(title, 11, cosine_matrix_description, index_mapping, metadata)\n",
    "recommend_films_by_content(title, 11, cosine_matrix_attributes, index_mapping, metadata)"
   ]
  },
  {
   "cell_type": "markdown",
   "source": [
    "## Aufgabe 2\n",
    "Im folgenden Abschnitt wird der Aufbau des collaborative Recommenders Schritt für Schritt erläutert. Zum Abschluss werden einige Empfehlungen zu bestimmten Filmen exemplarisch ausgegeben."
   ],
   "metadata": {
    "collapsed": false
   }
  },
  {
   "cell_type": "markdown",
   "source": [
    "### Neuformartierung Movie Metadata\n",
    "Diese Funktion bereitet einen DataFrame von Filmmetadata auf. Sie nimmt einen DataFrame mit allen Filmmetadata (df_mmeta_local) als Eingabe und gibt einen neuen, formatierten DataFrame (df_movies_local) zurück.\n",
    "Zunächst wird aus dem Release-Datum des Films das Erscheinungsjahr extrahiert und in einer neuen Spalte year im DataFrame gespeichert. Wenn das Release-Datum fehlt oder nicht konvertiert werden kann, wird der Wert NaN verwendet.\n",
    "Anschließend wird die Spalte genres des Eingabedatensatzes extrahiert und auf ihren Inhalt (Liste von Genres) transformiert. Die Spalte genres wird dann in eine Liste von Genrenamen konvertiert.\n",
    "Der Index des DataFrames wird dann auf die Spalte movieId geändert und auf numerische Werte konvertiert.\n",
    "Danach wird die Spalte vote_count aus dem Eingabedatensatz extrahiert und in den neuen DataFrame eingefügt. Der Datentyp von vote_count wird auf Integer konvertiert.\n",
    "Schließlich wird auch der Titel des Films in den neuen DataFrame eingefügt.\n",
    "Der neu formatierte DataFrame wird schließlich zurückgegeben."
   ],
   "metadata": {
    "collapsed": false
   }
  },
  {
   "cell_type": "code",
   "execution_count": 150,
   "outputs": [],
   "source": [
    "def getDfMovies(df_meta_local):\n",
    "\n",
    "    df_movies_local = pd.DataFrame()\n",
    "    # extract the release year\n",
    "    df_movies_local['year'] = pd.to_datetime(df_meta_local['release_date'], errors='coerce').apply(\n",
    "        lambda x: str(x).split('-')[0] if x != np.nan else np.nan)\n",
    "\n",
    "    # extract genres\n",
    "    df_movies_local['genres'] = df_meta_local['genres'].fillna('[]').apply(literal_eval).apply(\n",
    "        lambda x: [i['name'] for i in x] if isinstance(x, list) else [])\n",
    "\n",
    "    # change the index to movie_id\n",
    "    df_movies_local['movieId'] = pd.to_numeric(df_meta_local['id'])\n",
    "    df_movies_local = df_movies_local.set_index('movieId')\n",
    "\n",
    "    # add vote count\n",
    "    ##FH 2022-11-27 Correction getting Votes from df_mmeta\n",
    "    df_movies_local['vote_count'] = df_meta_local['vote_count']\n",
    "    df_movies_local['vote_count'] = df_movies_local['vote_count'].astype('int', True, 'ignore')\n",
    "    ##FH 2022-11-27 Added getting title\n",
    "    df_movies_local['title'] = df_meta_local[\"title\"]\n",
    "    return df_movies_local"
   ],
   "metadata": {
    "collapsed": false
   }
  },
  {
   "cell_type": "markdown",
   "source": [
    "### Trainieren und validieren des Collaborations-Modells\n",
    "Diese Funktion trainiert und validiert ein Collaborative Filtering-Modell für Vorhersage von Bewertungen von Filmen durch Benutzer. Der Code nutzt das Python-Modul Surprise für Collaborative Filtering.\n",
    "Zunächst werden fehlende Werte (NaN) aus dem Eingabedatensatz entfernt. Danach wird der Zeitstempel in der Spalte timestamp in ein datetime-Format konvertiert.\n",
    "Anschließend wird das Reader-Modul von Surprise verwendet, um den Datensatz zu analysieren und in eine Dataset-Instanz zu laden. Der Datensatz enthält Benutzer-ID, Film-ID und Bewertung in Spalten userId, movieId und rating.\n",
    "Der Datensatz wird dann in einen Trainings- und einen Testsatz aufgeteilt. Das Verhältnis wird durch den Wert von test_size festgelegt, in diesem Fall 20%.\n",
    "Danach wird ein SVD-Modell (Singular Value Decomposition) von Surprise instanziiert und mit dem Trainingsdatensatz trainiert.\n",
    "Schließlich wird das trainierte Modell mithilfe der Funktion cross_validate von Surprise validiert. Dabei wird der komplette Datensatz in 10 Fälle aufgeteilt und das Modell 10-fach über alle Fälle validiert. Als Messgrößen werden der Root Mean Squared Error (RMSE), der Mean Absolute Error (MAE) und der Mean Squared Error (MSE) berechnet.\n",
    "Die Funktion gibt schließlich das trainierte und validierte SVD-Modell zurück. Zusätzlich wird ein Balkendiagramm erstellt, das den MAE für jeden Durchlauf der Cross-Validation anzeigt."
   ],
   "metadata": {
    "collapsed": false
   }
  },
  {
   "cell_type": "code",
   "execution_count": 151,
   "outputs": [],
   "source": [
    "def trainAndValidateCollaboration(df_ratings_local):\n",
    "\n",
    "    # drop na values\n",
    "    df_ratings_temp = df_ratings_local.dropna()\n",
    "    # convert datetime\n",
    "    df_ratings_temp['timestamp'] = pd.to_datetime(df_ratings_temp['timestamp'], unit='s')\n",
    "\n",
    "    # The Reader class is used to parse a file containing ratings.\n",
    "    # The file is assumed to specify only one rating per line, such as in the df_ratings_temp file above.\n",
    "    reader = Reader()\n",
    "    ratings_by_users = Dataset.load_from_df(df_ratings_temp[['userId', 'movieId', 'rating']], reader)\n",
    "\n",
    "    # Split the Data into train and test\n",
    "    train_df, test_df = train_test_split(ratings_by_users, test_size=.2)\n",
    "\n",
    "    # train an SVD model\n",
    "    svd_model = SVD()\n",
    "    svd_model_trained = svd_model.fit(train_df)\n",
    "\n",
    "    # 10-fold cross validation\n",
    "    cross_val_results = cross_validate(svd_model_trained, ratings_by_users, measures=['RMSE', 'MAE', 'MSE'], cv=10,\n",
    "                                       verbose=False)\n",
    "    test_mae = cross_val_results['test_mae']\n",
    "\n",
    "    # mean squared errors per fold\n",
    "    df_test_mae = pd.DataFrame(test_mae, columns=['Mean Absolute Error'])\n",
    "    df_test_mae.index = np.arange(1, len(df_test_mae) + 1)\n",
    "    df_test_mae.sort_values(by='Mean Absolute Error', ascending=False).head(15)\n",
    "\n",
    "    # plot an overview of the performance per fold\n",
    "    plt.figure(figsize=(6, 4))\n",
    "    sns.set_theme(style=\"whitegrid\")\n",
    "    sns.barplot(y='Mean Absolute Error', x=df_test_mae.index, data=df_test_mae, color=\"b\")\n",
    "    plt.title('Mean Absolute Error')\n",
    "\n",
    "    return svd_model_trained"
   ],
   "metadata": {
    "collapsed": false
   }
  },
  {
   "cell_type": "markdown",
   "source": [
    "### Empfehle Filme\n",
    "Diese Funktion empfiehlt Filme für einen gegebenen Benutzer basierend auf Vorhersagen des Bewertungen mithilfe eines Collaborative Filtering-Modells und den von diesem Benutzer bereits bewerteten Filmen.\n",
    "Zunächst wird der gewählte Film angezeigt, indem der DataFrame df_movies_local nach dem angegebenen Titel durchsucht wird. Der Film wird dann anhand seines Erscheinungsjahrs gefiltert und der DataFrame df_movies_local wird auf Filme aus dem gleichen Jahr beschränkt.\n",
    "Danach wird der DataFrame df_ratings nach Bewertungen des angegebenen Benutzers gefiltert und die Anzahl der Bewertungen wird ausgegeben.\n",
    "Schließlich wird für jeden Film in df_movies_local eine Vorhersage der Bewertung durch den Benutzer mithilfe des übergebenen, trainierten Collaborative Filtering-Modells berechnet. Die Vorhersagen werden in einem DataFrame df_recommendations zusammengefasst, der die Filme mit ihren vorhergesagten und tatsächlichen Bewertungen enthält. Schließlich wird der DataFrame sortiert und die empfohlenen Filme werden anhand der vorhergesagten Bewertungen absteigend angezeigt. Die Anzahl der empfohlenen Filme wird durch den Wert von n festgelegt."
   ],
   "metadata": {
    "collapsed": false
   }
  },
  {
   "cell_type": "code",
   "execution_count": 152,
   "outputs": [],
   "source": [
    "def recommend_films_by_collaboration(title, n, user_id, svd_model_trained, df_movies_local, df_ratings):\n",
    "\n",
    "    chosenMovie = df_movies_local[df_movies_local['title'] == title]\n",
    "    year = chosenMovie[\"year\"].iloc[0]\n",
    "\n",
    "    #filter by Year\n",
    "    df_movies_local = df_movies_local[df_movies_local['year'] == year]\n",
    "\n",
    "    df_ratings_filtered = df_ratings[df_ratings['userId'] == user_id]\n",
    "\n",
    "    pred_series = []\n",
    "    for movie_id, name in zip(df_movies_local.index, df_movies_local['title']):\n",
    "        rating_pred = svd_model_trained.predict(user_id, movie_id, 0, verbose=False)\n",
    "        pred_series.append([movie_id, name, rating_pred.est, 0])\n",
    "    df_recommendations = pd.DataFrame(pred_series, columns=['movieId', 'title', 'predicted_rating', 'actual_rating'])\n",
    "    display(df_recommendations.sort_values(by='predicted_rating', ascending=False).head(n))"
   ],
   "metadata": {
    "collapsed": false
   }
  },
  {
   "cell_type": "markdown",
   "source": [
    "### Funktion\n",
    "Dieser Code empfiehlt Filme für einen gegebenen Benutzer anhand von Vorhersagen mithilfe von Collaborative Filtering.\n",
    "\n",
    "Zunächst wird der DataFrame mit Filmmetadaten mithilfe der Funktion getDfMovies aufbereitet und in der Variablen df_movies gespeichert. Anschließend wird ein Collaborative Filtering-Modell mithilfe der Funktion trainAndValidateCollaboration trainiert und in der Variablen svd_model_trained gespeichert.\n",
    "Danach werden die Variablen title, user_id und n definiert, die den Titel des zu empfehlenden Films, die Benutzer-ID des Benutzers und die Anzahl der empfohlenen Filme angeben.\n",
    "Schließlich wird die Funktion recommend_films_by_collaboration aufgerufen und die Variablen title, n, user_id, svd_model_trained und df_movies werden als Argumente übergeben. Die Funktion empfiehlt Filme für den gegebenen Benutzer und gibt eine Liste von empfohlenen Filmen aus, sortiert nach ihren vorhergesagten Bewertungen."
   ],
   "metadata": {
    "collapsed": false
   }
  },
  {
   "cell_type": "code",
   "execution_count": 153,
   "outputs": [
    {
     "data": {
      "text/plain": "     movieId                                   title  predicted_rating  \\\n301    31410                                   Sugar          4.191912   \n254    44191                             Revengeance          4.059768   \n34      8879                     The Unknown Soldier          4.012166   \n135     1884                          Child's Play 3          3.969879   \n38      1374                              Turbulence          3.935513   \n48      1694                           U.S. Marshals          3.846909   \n244    32387                            29th and Gay          3.843400   \n205    26974  House Party 4: Down to the Last Minute          3.810916   \n289    58191                                     NaN          3.783086   \n280   105246                                     NaN          3.727616   \n\n     actual_rating  \n301              0  \n254              0  \n34               0  \n135              0  \n38               0  \n48               0  \n244              0  \n205              0  \n289              0  \n280              0  ",
      "text/html": "<div>\n<style scoped>\n    .dataframe tbody tr th:only-of-type {\n        vertical-align: middle;\n    }\n\n    .dataframe tbody tr th {\n        vertical-align: top;\n    }\n\n    .dataframe thead th {\n        text-align: right;\n    }\n</style>\n<table border=\"1\" class=\"dataframe\">\n  <thead>\n    <tr style=\"text-align: right;\">\n      <th></th>\n      <th>movieId</th>\n      <th>title</th>\n      <th>predicted_rating</th>\n      <th>actual_rating</th>\n    </tr>\n  </thead>\n  <tbody>\n    <tr>\n      <th>301</th>\n      <td>31410</td>\n      <td>Sugar</td>\n      <td>4.191912</td>\n      <td>0</td>\n    </tr>\n    <tr>\n      <th>254</th>\n      <td>44191</td>\n      <td>Revengeance</td>\n      <td>4.059768</td>\n      <td>0</td>\n    </tr>\n    <tr>\n      <th>34</th>\n      <td>8879</td>\n      <td>The Unknown Soldier</td>\n      <td>4.012166</td>\n      <td>0</td>\n    </tr>\n    <tr>\n      <th>135</th>\n      <td>1884</td>\n      <td>Child's Play 3</td>\n      <td>3.969879</td>\n      <td>0</td>\n    </tr>\n    <tr>\n      <th>38</th>\n      <td>1374</td>\n      <td>Turbulence</td>\n      <td>3.935513</td>\n      <td>0</td>\n    </tr>\n    <tr>\n      <th>48</th>\n      <td>1694</td>\n      <td>U.S. Marshals</td>\n      <td>3.846909</td>\n      <td>0</td>\n    </tr>\n    <tr>\n      <th>244</th>\n      <td>32387</td>\n      <td>29th and Gay</td>\n      <td>3.843400</td>\n      <td>0</td>\n    </tr>\n    <tr>\n      <th>205</th>\n      <td>26974</td>\n      <td>House Party 4: Down to the Last Minute</td>\n      <td>3.810916</td>\n      <td>0</td>\n    </tr>\n    <tr>\n      <th>289</th>\n      <td>58191</td>\n      <td>NaN</td>\n      <td>3.783086</td>\n      <td>0</td>\n    </tr>\n    <tr>\n      <th>280</th>\n      <td>105246</td>\n      <td>NaN</td>\n      <td>3.727616</td>\n      <td>0</td>\n    </tr>\n  </tbody>\n</table>\n</div>"
     },
     "metadata": {},
     "output_type": "display_data"
    },
    {
     "data": {
      "text/plain": "<Figure size 600x400 with 1 Axes>",
      "image/png": "[encoded data removed]"
     },
     "metadata": {},
     "output_type": "display_data"
    }
   ],
   "source": [
    "# remove invalid records with invalid ids\n",
    "df_meta = metadata.drop([19730, 29503, 35587])\n",
    "\n",
    "df_movies = getDfMovies(df_meta)\n",
    "svd_model_trained = trainAndValidateCollaboration(rating)\n",
    "\n",
    "title = 'The Dark Knight Rises'\n",
    "user_id = 400\n",
    "n = 10\n",
    "\n",
    "recommend_films_by_collaboration(title, n, user_id, svd_model_trained, df_movies, rating)"
   ],
   "metadata": {
    "collapsed": false
   }
  },
  {
   "cell_type": "code",
   "execution_count": 154,
   "outputs": [
    {
     "name": "stdout",
     "output_type": "stream",
     "text": [
      "(45463, 75827)\n",
      "(45463, 45463)\n",
      "title\n",
      "Toy Story                      0\n",
      "Jumanji                        1\n",
      "Grumpier Old Men               2\n",
      "Waiting to Exhale              3\n",
      "Father of the Bride Part II    4\n",
      "dtype: int64\n"
     ]
    },
    {
     "ename": "KeyError",
     "evalue": "'release_date'",
     "output_type": "error",
     "traceback": [
      "\u001B[0;31m---------------------------------------------------------------------------\u001B[0m",
      "\u001B[0;31mKeyError\u001B[0m                                  Traceback (most recent call last)",
      "File \u001B[0;32m/opt/homebrew/lib/python3.10/site-packages/pandas/core/indexes/base.py:3800\u001B[0m, in \u001B[0;36mIndex.get_loc\u001B[0;34m(self, key, method, tolerance)\u001B[0m\n\u001B[1;32m   3799\u001B[0m \u001B[38;5;28;01mtry\u001B[39;00m:\n\u001B[0;32m-> 3800\u001B[0m     \u001B[38;5;28;01mreturn\u001B[39;00m \u001B[38;5;28;43mself\u001B[39;49m\u001B[38;5;241;43m.\u001B[39;49m\u001B[43m_engine\u001B[49m\u001B[38;5;241;43m.\u001B[39;49m\u001B[43mget_loc\u001B[49m\u001B[43m(\u001B[49m\u001B[43mcasted_key\u001B[49m\u001B[43m)\u001B[49m\n\u001B[1;32m   3801\u001B[0m \u001B[38;5;28;01mexcept\u001B[39;00m \u001B[38;5;167;01mKeyError\u001B[39;00m \u001B[38;5;28;01mas\u001B[39;00m err:\n",
      "File \u001B[0;32m/opt/homebrew/lib/python3.10/site-packages/pandas/_libs/index.pyx:138\u001B[0m, in \u001B[0;36mpandas._libs.index.IndexEngine.get_loc\u001B[0;34m()\u001B[0m\n",
      "File \u001B[0;32m/opt/homebrew/lib/python3.10/site-packages/pandas/_libs/index.pyx:146\u001B[0m, in \u001B[0;36mpandas._libs.index.IndexEngine.get_loc\u001B[0;34m()\u001B[0m\n",
      "File \u001B[0;32mpandas/_libs/index_class_helper.pxi:49\u001B[0m, in \u001B[0;36mpandas._libs.index.Int64Engine._check_type\u001B[0;34m()\u001B[0m\n",
      "\u001B[0;31mKeyError\u001B[0m: 'release_date'",
      "\nThe above exception was the direct cause of the following exception:\n",
      "\u001B[0;31mKeyError\u001B[0m                                  Traceback (most recent call last)",
      "Cell \u001B[0;32mIn [154], line 10\u001B[0m\n\u001B[1;32m      6\u001B[0m index_mapping \u001B[38;5;241m=\u001B[39m getIndexMapping(df_metadata)\n\u001B[1;32m      8\u001B[0m \u001B[38;5;66;03m# remove invalid records with invalid ids\u001B[39;00m\n\u001B[0;32m---> 10\u001B[0m df_movies \u001B[38;5;241m=\u001B[39m \u001B[43mgetDfMovies\u001B[49m\u001B[43m(\u001B[49m\u001B[43mrecommend_films_by_content\u001B[49m\u001B[43m(\u001B[49m\u001B[43mtitle\u001B[49m\u001B[43m,\u001B[49m\u001B[43m \u001B[49m\u001B[38;5;241;43m100\u001B[39;49m\u001B[43m,\u001B[49m\u001B[43m \u001B[49m\u001B[43mcosine_matrix_description\u001B[49m\u001B[43m,\u001B[49m\u001B[43m \u001B[49m\u001B[43mindex_mapping\u001B[49m\u001B[43m,\u001B[49m\u001B[43m \u001B[49m\u001B[43mmetadata\u001B[49m\u001B[43m)\u001B[49m\u001B[43m)\u001B[49m\n\u001B[1;32m     11\u001B[0m svd_model_trained \u001B[38;5;241m=\u001B[39m trainAndValidateCollaboration(rating)\n\u001B[1;32m     13\u001B[0m recommend_films_by_collaboration(title, n, user_id, svd_model_trained, df_movies, rating)\n",
      "Cell \u001B[0;32mIn [150], line 5\u001B[0m, in \u001B[0;36mgetDfMovies\u001B[0;34m(df_meta_local)\u001B[0m\n\u001B[1;32m      3\u001B[0m df_movies_local \u001B[38;5;241m=\u001B[39m pd\u001B[38;5;241m.\u001B[39mDataFrame()\n\u001B[1;32m      4\u001B[0m \u001B[38;5;66;03m# extract the release year\u001B[39;00m\n\u001B[0;32m----> 5\u001B[0m df_movies_local[\u001B[38;5;124m'\u001B[39m\u001B[38;5;124myear\u001B[39m\u001B[38;5;124m'\u001B[39m] \u001B[38;5;241m=\u001B[39m pd\u001B[38;5;241m.\u001B[39mto_datetime(\u001B[43mdf_meta_local\u001B[49m\u001B[43m[\u001B[49m\u001B[38;5;124;43m'\u001B[39;49m\u001B[38;5;124;43mrelease_date\u001B[39;49m\u001B[38;5;124;43m'\u001B[39;49m\u001B[43m]\u001B[49m, errors\u001B[38;5;241m=\u001B[39m\u001B[38;5;124m'\u001B[39m\u001B[38;5;124mcoerce\u001B[39m\u001B[38;5;124m'\u001B[39m)\u001B[38;5;241m.\u001B[39mapply(\n\u001B[1;32m      6\u001B[0m     \u001B[38;5;28;01mlambda\u001B[39;00m x: \u001B[38;5;28mstr\u001B[39m(x)\u001B[38;5;241m.\u001B[39msplit(\u001B[38;5;124m'\u001B[39m\u001B[38;5;124m-\u001B[39m\u001B[38;5;124m'\u001B[39m)[\u001B[38;5;241m0\u001B[39m] \u001B[38;5;28;01mif\u001B[39;00m x \u001B[38;5;241m!=\u001B[39m np\u001B[38;5;241m.\u001B[39mnan \u001B[38;5;28;01melse\u001B[39;00m np\u001B[38;5;241m.\u001B[39mnan)\n\u001B[1;32m      8\u001B[0m \u001B[38;5;66;03m# extract genres\u001B[39;00m\n\u001B[1;32m      9\u001B[0m df_movies_local[\u001B[38;5;124m'\u001B[39m\u001B[38;5;124mgenres\u001B[39m\u001B[38;5;124m'\u001B[39m] \u001B[38;5;241m=\u001B[39m df_meta_local[\u001B[38;5;124m'\u001B[39m\u001B[38;5;124mgenres\u001B[39m\u001B[38;5;124m'\u001B[39m]\u001B[38;5;241m.\u001B[39mfillna(\u001B[38;5;124m'\u001B[39m\u001B[38;5;124m[]\u001B[39m\u001B[38;5;124m'\u001B[39m)\u001B[38;5;241m.\u001B[39mapply(literal_eval)\u001B[38;5;241m.\u001B[39mapply(\n\u001B[1;32m     10\u001B[0m     \u001B[38;5;28;01mlambda\u001B[39;00m x: [i[\u001B[38;5;124m'\u001B[39m\u001B[38;5;124mname\u001B[39m\u001B[38;5;124m'\u001B[39m] \u001B[38;5;28;01mfor\u001B[39;00m i \u001B[38;5;129;01min\u001B[39;00m x] \u001B[38;5;28;01mif\u001B[39;00m \u001B[38;5;28misinstance\u001B[39m(x, \u001B[38;5;28mlist\u001B[39m) \u001B[38;5;28;01melse\u001B[39;00m [])\n",
      "File \u001B[0;32m/opt/homebrew/lib/python3.10/site-packages/pandas/core/series.py:982\u001B[0m, in \u001B[0;36mSeries.__getitem__\u001B[0;34m(self, key)\u001B[0m\n\u001B[1;32m    979\u001B[0m     \u001B[38;5;28;01mreturn\u001B[39;00m \u001B[38;5;28mself\u001B[39m\u001B[38;5;241m.\u001B[39m_values[key]\n\u001B[1;32m    981\u001B[0m \u001B[38;5;28;01melif\u001B[39;00m key_is_scalar:\n\u001B[0;32m--> 982\u001B[0m     \u001B[38;5;28;01mreturn\u001B[39;00m \u001B[38;5;28;43mself\u001B[39;49m\u001B[38;5;241;43m.\u001B[39;49m\u001B[43m_get_value\u001B[49m\u001B[43m(\u001B[49m\u001B[43mkey\u001B[49m\u001B[43m)\u001B[49m\n\u001B[1;32m    984\u001B[0m \u001B[38;5;28;01mif\u001B[39;00m is_hashable(key):\n\u001B[1;32m    985\u001B[0m     \u001B[38;5;66;03m# Otherwise index.get_value will raise InvalidIndexError\u001B[39;00m\n\u001B[1;32m    986\u001B[0m     \u001B[38;5;28;01mtry\u001B[39;00m:\n\u001B[1;32m    987\u001B[0m         \u001B[38;5;66;03m# For labels that don't resolve as scalars like tuples and frozensets\u001B[39;00m\n",
      "File \u001B[0;32m/opt/homebrew/lib/python3.10/site-packages/pandas/core/series.py:1092\u001B[0m, in \u001B[0;36mSeries._get_value\u001B[0;34m(self, label, takeable)\u001B[0m\n\u001B[1;32m   1089\u001B[0m     \u001B[38;5;28;01mreturn\u001B[39;00m \u001B[38;5;28mself\u001B[39m\u001B[38;5;241m.\u001B[39m_values[label]\n\u001B[1;32m   1091\u001B[0m \u001B[38;5;66;03m# Similar to Index.get_value, but we do not fall back to positional\u001B[39;00m\n\u001B[0;32m-> 1092\u001B[0m loc \u001B[38;5;241m=\u001B[39m \u001B[38;5;28;43mself\u001B[39;49m\u001B[38;5;241;43m.\u001B[39;49m\u001B[43mindex\u001B[49m\u001B[38;5;241;43m.\u001B[39;49m\u001B[43mget_loc\u001B[49m\u001B[43m(\u001B[49m\u001B[43mlabel\u001B[49m\u001B[43m)\u001B[49m\n\u001B[1;32m   1093\u001B[0m \u001B[38;5;28;01mreturn\u001B[39;00m \u001B[38;5;28mself\u001B[39m\u001B[38;5;241m.\u001B[39mindex\u001B[38;5;241m.\u001B[39m_get_values_for_loc(\u001B[38;5;28mself\u001B[39m, loc, label)\n",
      "File \u001B[0;32m/opt/homebrew/lib/python3.10/site-packages/pandas/core/indexes/base.py:3802\u001B[0m, in \u001B[0;36mIndex.get_loc\u001B[0;34m(self, key, method, tolerance)\u001B[0m\n\u001B[1;32m   3800\u001B[0m     \u001B[38;5;28;01mreturn\u001B[39;00m \u001B[38;5;28mself\u001B[39m\u001B[38;5;241m.\u001B[39m_engine\u001B[38;5;241m.\u001B[39mget_loc(casted_key)\n\u001B[1;32m   3801\u001B[0m \u001B[38;5;28;01mexcept\u001B[39;00m \u001B[38;5;167;01mKeyError\u001B[39;00m \u001B[38;5;28;01mas\u001B[39;00m err:\n\u001B[0;32m-> 3802\u001B[0m     \u001B[38;5;28;01mraise\u001B[39;00m \u001B[38;5;167;01mKeyError\u001B[39;00m(key) \u001B[38;5;28;01mfrom\u001B[39;00m \u001B[38;5;21;01merr\u001B[39;00m\n\u001B[1;32m   3803\u001B[0m \u001B[38;5;28;01mexcept\u001B[39;00m \u001B[38;5;167;01mTypeError\u001B[39;00m:\n\u001B[1;32m   3804\u001B[0m     \u001B[38;5;66;03m# If we have a listlike key, _check_indexing_error will raise\u001B[39;00m\n\u001B[1;32m   3805\u001B[0m     \u001B[38;5;66;03m#  InvalidIndexError. Otherwise we fall through and re-raise\u001B[39;00m\n\u001B[1;32m   3806\u001B[0m     \u001B[38;5;66;03m#  the TypeError.\u001B[39;00m\n\u001B[1;32m   3807\u001B[0m     \u001B[38;5;28mself\u001B[39m\u001B[38;5;241m.\u001B[39m_check_indexing_error(key)\n",
      "\u001B[0;31mKeyError\u001B[0m: 'release_date'"
     ]
    }
   ],
   "source": [
    "df_metadata = metadata.drop([19730, 29503, 35587])\n",
    "user_id = 400\n",
    "n = 10\n",
    "title = 'The Dark Knight Rises'\n",
    "cosine_matrix_description = getCosineMatrixDescription(df_metadata)\n",
    "index_mapping = getIndexMapping(df_metadata)\n",
    "\n",
    "# remove invalid records with invalid ids\n",
    "\n",
    "df_movies = getDfMovies(recommend_films_by_content(title, 100, cosine_matrix_description, index_mapping, metadata))\n",
    "svd_model_trained = trainAndValidateCollaboration(rating)\n",
    "\n",
    "recommend_films_by_collaboration(title, n, user_id, svd_model_trained, df_movies, rating)"
   ],
   "metadata": {
    "collapsed": false
   }
  },
  {
   "cell_type": "code",
   "execution_count": null,
   "outputs": [],
   "source": [],
   "metadata": {
    "collapsed": false
   }
  }
 ],
 "metadata": {
  "kernelspec": {
   "display_name": "Python 3 (ipykernel)",
   "language": "python",
   "name": "python3"
  },
  "language_info": {
   "codemirror_mode": {
    "name": "ipython",
    "version": 3
   },
   "file_extension": ".py",
   "mimetype": "text/x-python",
   "name": "python",
   "nbconvert_exporter": "python",
   "pygments_lexer": "ipython3",
   "version": "3.10.8"
  }
 },
 "nbformat": 4,
 "nbformat_minor": 1
}
